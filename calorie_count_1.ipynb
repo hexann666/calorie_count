{
 "cells": [
  {
   "cell_type": "markdown",
   "metadata": {},
   "source": [
    "First you will provide your height, weight and age and calculate your Basal Metabolic Rate, the number of calories required to keep your body functioning at rest.\n",
    "\n",
    "Then after choosing your usual level of activity the Active Metabolic Rate, the number of calories that we consume on a daily basis depending on our height, sex, age, weight and entered activity level whilst maintaining current weight, will be calculated.\n",
    "\n",
    "source for the formulas https://www.verywellfit.com/how-many-calories-do-i-need-each-day-2506873"
   ]
  },
  {
   "cell_type": "code",
   "execution_count": null,
   "metadata": {},
   "outputs": [],
   "source": [
    "import pandas as pd\n",
    "import regex as re"
   ]
  },
  {
   "cell_type": "code",
   "execution_count": 3,
   "metadata": {},
   "outputs": [
    {
     "name": "stdout",
     "output_type": "stream",
     "text": [
      "your height = 170\n",
      "your weight = 57 \n",
      "your age = 33\n",
      "\n",
      "Your BMR is 1360.383 \n",
      "\n",
      "\n",
      "To stay at your current weight you need to consume 2108.59 calories\n"
     ]
    }
   ],
   "source": [
    "# idea! add possibility to correct initial data\n",
    "height, weight, age = list(\n",
    "    map(\n",
    "        int, \n",
    "        input('Please type in your height in cm, weight in full kg and age in years separated with space').split()))\n",
    "\n",
    "print(f'your height = {height}\\nyour weight = {weight} \\nyour age = {age}\\n')\n",
    "\n",
    "sex=input('Please provide your gender: m for men and w for women')\n",
    "# idea! errorcheck\n",
    "\n",
    "if sex == 'w':\n",
    "    bmr = float(655.1 + (9.563 * weight) + (1.850 * height) - (4.676 * age))\n",
    "    \n",
    "elif sex == 'm':\n",
    "    bmr = float(66.47 + (13.75 * weight) + (5.003 * height) - (6.755 * age))\n",
    "\n",
    "print(f'Your BMR is {bmr} \\n')\n",
    "\n",
    "act = float(input('Please choose your level of activity:\\n1.2 little to no exercise \\\n",
    "                                                \\n1.37 light exercise 1–3 days a week \\\n",
    "                                                \\n1.55 moderate exercise 3–5 days a week \\\n",
    "                                                \\n1.725 hard exercises 6–7 days a week \\\n",
    "                                                \\n1.9 physically demanding job or particularly challenging exercise routine\\n\\n'))\n",
    "\n",
    "amr = bmr * act\n",
    "# idea! make amr be printed out in different colour\n",
    "print(f'\\nTo stay at your current weight you need to consume {amr:.2f} calories')"
   ]
  },
  {
   "cell_type": "code",
   "execution_count": 5,
   "metadata": {},
   "outputs": [
    {
     "name": "stderr",
     "output_type": "stream",
     "text": [
      "C:\\Python\\Python39\\lib\\site-packages\\IPython\\core\\interactiveshell.py:3444: FutureWarning: The error_bad_lines argument has been deprecated and will be removed in a future version.\n",
      "\n",
      "\n",
      "  exec(code_obj, self.user_global_ns, self.user_ns)\n"
     ]
    },
    {
     "name": "stdout",
     "output_type": "stream",
     "text": [
      "Please provide your weight, height and age in the first part of the calculator\n",
      "\n",
      "                  ACTIVITY                                    SPECIFIC MOTION  \\\n",
      "63  conditioning exercise  video exercise workouts, TV conditioning progr...   \n",
      "64  conditioning exercise  video exercise workouts, TV conditioning progr...   \n",
      "65  conditioning exercise  video exercise workouts, TV conditioning progr...   \n",
      "\n",
      "    METs  \n",
      "63   2.3  \n",
      "64   4.0  \n",
      "65   6.0  \n",
      "Your Total Daily Energy Expenditure was 4577.1 kcal today, from which you burned 2992.5 kcal during your activity\n"
     ]
    }
   ],
   "source": [
    "print('Please provide your weight, height and age in the first part of the calculator')\n",
    "\n",
    "\n",
    "met_list = pd.read_csv('data/met_list_activities.csv',sep=';', encoding='ANSI', decimal=',', error_bad_lines=False)\n",
    "#source https://golf.procon.org/met-values-for-800-activities/\n",
    "\n",
    "# while met is zero, user can keep looking for her activity\n",
    "met, your_act = 0, ''\n",
    "\n",
    "# idea! add an option to add more than one daily activity\n",
    "while met == 0:\n",
    "    your_act = input('Type in the activity you were doing today:')\n",
    "    # cheking, if the typed activity is in the list of activities\n",
    "    if len(met_list[met_list['SPECIFIC MOTION'].str.contains(your_act)]) != 0:\n",
    "        print('\\n', met_list[met_list['SPECIFIC MOTION'].str.contains(your_act)])\n",
    "        met = float(input('\\nSelect MET of your activity from the list'))\n",
    "    else:\n",
    "        print('Please type again')\n",
    "\n",
    "time = int(input('Type in the time of your activity for today in minutes:'))\n",
    "\n",
    "#calculate calories burned during activity with chosen MET and calories burned during rest of the time with standard MET of 1.2\n",
    "burned_cal = met * weight * time/60\n",
    "bmr_cal = 1.2 * weight * (24 - time / 60)\n",
    "print('Your Total Daily Energy Expenditure was {} kcal today, from which you burned {} kcal during your activity'.format(round((burned_cal + bmr_cal), 2),  burned_cal))"
   ]
  },
  {
   "cell_type": "code",
   "execution_count": null,
   "metadata": {},
   "outputs": [],
   "source": []
  },
  {
   "cell_type": "code",
   "execution_count": null,
   "metadata": {},
   "outputs": [],
   "source": []
  }
 ],
 "metadata": {
  "interpreter": {
   "hash": "732353d8c7642473d8e734bee2a89f0938162f699c438dc9a11d7081b1712ce3"
  },
  "kernelspec": {
   "display_name": "Python 3.9.7 64-bit (system)",
   "language": "python",
   "name": "python3"
  },
  "language_info": {
   "codemirror_mode": {
    "name": "ipython",
    "version": 3
   },
   "file_extension": ".py",
   "mimetype": "text/x-python",
   "name": "python",
   "nbconvert_exporter": "python",
   "pygments_lexer": "ipython3",
   "version": "3.9.7"
  },
  "orig_nbformat": 4
 },
 "nbformat": 4,
 "nbformat_minor": 2
}
