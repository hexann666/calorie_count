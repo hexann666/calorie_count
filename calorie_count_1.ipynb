{
 "cells": [
  {
   "cell_type": "markdown",
   "metadata": {},
   "source": [
    "First you will provide your height, weight and age and calculate your Basal Metabolic Rate, the number of calories required to keep your body functioning at rest.\n",
    "\n",
    "Then after choosing your usual level of activity the Active Metabolic Rate, the number of calories that we consume on a daily basis depending on our height, gender, age, weight and entered activity level whilst maintaining current weight, will be calculated.\n",
    "\n",
    "source for the formulas https://www.verywellfit.com/how-many-calories-do-i-need-each-day-2506873"
   ]
  },
  {
   "cell_type": "code",
   "execution_count": 7,
   "metadata": {},
   "outputs": [
    {
     "name": "stdout",
     "output_type": "stream",
     "text": [
      "Collecting nbdev\n",
      "  Downloading nbdev-1.2.8-py3-none-any.whl (49 kB)\n",
      "     ---------------------------------------- 49.3/49.3 KB 2.6 MB/s eta 0:00:00\n",
      "Collecting ghapi\n",
      "  Downloading ghapi-0.1.20-py3-none-any.whl (53 kB)\n",
      "     ---------------------------------------- 54.0/54.0 KB ? eta 0:00:00\n",
      "Requirement already satisfied: ipykernel in c:\\python\\python39\\lib\\site-packages (from nbdev) (6.4.1)\n",
      "Requirement already satisfied: packaging in c:\\python\\python39\\lib\\site-packages (from nbdev) (21.2)\n",
      "Requirement already satisfied: nbconvert>=6.1 in c:\\python\\python39\\lib\\site-packages (from nbdev) (6.2.0)\n",
      "Requirement already satisfied: jupyter-client<8 in c:\\python\\python39\\lib\\site-packages (from nbdev) (7.0.6)\n",
      "Requirement already satisfied: Jinja2<3.1.0 in c:\\python\\python39\\lib\\site-packages (from nbdev) (3.0.2)\n",
      "Requirement already satisfied: jupyter in c:\\python\\python39\\lib\\site-packages (from nbdev) (1.0.0)\n",
      "Collecting fastrelease\n",
      "  Downloading fastrelease-0.1.16-py3-none-any.whl (13 kB)\n",
      "Collecting fastcore>=1.4.1\n",
      "  Downloading fastcore-1.4.2-py3-none-any.whl (60 kB)\n",
      "     ---------------------------------------- 60.1/60.1 KB ? eta 0:00:00\n",
      "Requirement already satisfied: pyyaml in c:\\python\\python39\\lib\\site-packages (from nbdev) (6.0)\n",
      "Requirement already satisfied: nbformat>=4.4.0 in c:\\python\\python39\\lib\\site-packages (from nbdev) (5.1.3)\n",
      "Requirement already satisfied: pip in c:\\python\\python39\\lib\\site-packages (from nbdev) (22.0.4)\n",
      "Requirement already satisfied: MarkupSafe>=2.0 in c:\\python\\python39\\lib\\site-packages (from Jinja2<3.1.0->nbdev) (2.0.1)\n",
      "Requirement already satisfied: nest-asyncio>=1.5 in c:\\python\\python39\\lib\\site-packages (from jupyter-client<8->nbdev) (1.5.1)\n",
      "Requirement already satisfied: entrypoints in c:\\python\\python39\\lib\\site-packages (from jupyter-client<8->nbdev) (0.3)\n",
      "Requirement already satisfied: python-dateutil>=2.1 in c:\\python\\python39\\lib\\site-packages (from jupyter-client<8->nbdev) (2.8.2)\n",
      "Requirement already satisfied: traitlets in c:\\python\\python39\\lib\\site-packages (from jupyter-client<8->nbdev) (5.1.0)\n",
      "Requirement already satisfied: pyzmq>=13 in c:\\python\\python39\\lib\\site-packages (from jupyter-client<8->nbdev) (22.3.0)\n",
      "Requirement already satisfied: jupyter-core>=4.6.0 in c:\\python\\python39\\lib\\site-packages (from jupyter-client<8->nbdev) (4.8.1)\n",
      "Requirement already satisfied: tornado>=4.1 in c:\\python\\python39\\lib\\site-packages (from jupyter-client<8->nbdev) (6.1)\n",
      "Requirement already satisfied: pandocfilters>=1.4.1 in c:\\python\\python39\\lib\\site-packages (from nbconvert>=6.1->nbdev) (1.5.0)\n",
      "Requirement already satisfied: bleach in c:\\python\\python39\\lib\\site-packages (from nbconvert>=6.1->nbdev) (4.1.0)\n",
      "Requirement already satisfied: pygments>=2.4.1 in c:\\python\\python39\\lib\\site-packages (from nbconvert>=6.1->nbdev) (2.10.0)\n",
      "Requirement already satisfied: mistune<2,>=0.8.1 in c:\\python\\python39\\lib\\site-packages (from nbconvert>=6.1->nbdev) (0.8.4)\n",
      "Requirement already satisfied: testpath in c:\\python\\python39\\lib\\site-packages (from nbconvert>=6.1->nbdev) (0.5.0)\n",
      "Requirement already satisfied: defusedxml in c:\\python\\python39\\lib\\site-packages (from nbconvert>=6.1->nbdev) (0.7.1)\n",
      "Requirement already satisfied: jupyterlab-pygments in c:\\python\\python39\\lib\\site-packages (from nbconvert>=6.1->nbdev) (0.1.2)\n",
      "Requirement already satisfied: nbclient<0.6.0,>=0.5.0 in c:\\python\\python39\\lib\\site-packages (from nbconvert>=6.1->nbdev) (0.5.4)\n",
      "Requirement already satisfied: ipython-genutils in c:\\python\\python39\\lib\\site-packages (from nbformat>=4.4.0->nbdev) (0.2.0)\n",
      "Requirement already satisfied: jsonschema!=2.5.0,>=2.4 in c:\\python\\python39\\lib\\site-packages (from nbformat>=4.4.0->nbdev) (4.2.1)\n",
      "Requirement already satisfied: matplotlib-inline<0.2.0,>=0.1.0 in c:\\python\\python39\\lib\\site-packages (from ipykernel->nbdev) (0.1.3)\n",
      "Requirement already satisfied: ipython<8.0,>=7.23.1 in c:\\python\\python39\\lib\\site-packages (from ipykernel->nbdev) (7.28.0)\n",
      "Requirement already satisfied: debugpy<2.0,>=1.0.0 in c:\\python\\python39\\lib\\site-packages (from ipykernel->nbdev) (1.5.0)\n",
      "Requirement already satisfied: notebook in c:\\python\\python39\\lib\\site-packages (from jupyter->nbdev) (6.4.5)\n",
      "Requirement already satisfied: jupyter-console in c:\\python\\python39\\lib\\site-packages (from jupyter->nbdev) (6.4.0)\n",
      "Requirement already satisfied: qtconsole in c:\\python\\python39\\lib\\site-packages (from jupyter->nbdev) (5.1.1)\n",
      "Requirement already satisfied: ipywidgets in c:\\python\\python39\\lib\\site-packages (from jupyter->nbdev) (7.6.5)\n",
      "Requirement already satisfied: pyparsing<3,>=2.0.2 in c:\\python\\python39\\lib\\site-packages (from packaging->nbdev) (2.4.7)\n",
      "Requirement already satisfied: pickleshare in c:\\python\\python39\\lib\\site-packages (from ipython<8.0,>=7.23.1->ipykernel->nbdev) (0.7.5)\n",
      "Requirement already satisfied: setuptools>=18.5 in c:\\python\\python39\\lib\\site-packages (from ipython<8.0,>=7.23.1->ipykernel->nbdev) (61.1.1)\n",
      "Requirement already satisfied: colorama in c:\\python\\python39\\lib\\site-packages (from ipython<8.0,>=7.23.1->ipykernel->nbdev) (0.4.4)\n",
      "Requirement already satisfied: backcall in c:\\python\\python39\\lib\\site-packages (from ipython<8.0,>=7.23.1->ipykernel->nbdev) (0.2.0)\n",
      "Requirement already satisfied: prompt-toolkit!=3.0.0,!=3.0.1,<3.1.0,>=2.0.0 in c:\\python\\python39\\lib\\site-packages (from ipython<8.0,>=7.23.1->ipykernel->nbdev) (3.0.20)\n",
      "Requirement already satisfied: jedi>=0.16 in c:\\python\\python39\\lib\\site-packages (from ipython<8.0,>=7.23.1->ipykernel->nbdev) (0.18.0)\n",
      "Requirement already satisfied: decorator in c:\\python\\python39\\lib\\site-packages (from ipython<8.0,>=7.23.1->ipykernel->nbdev) (5.1.0)\n",
      "Requirement already satisfied: attrs>=17.4.0 in c:\\python\\python39\\lib\\site-packages (from jsonschema!=2.5.0,>=2.4->nbformat>=4.4.0->nbdev) (21.2.0)\n",
      "Requirement already satisfied: pyrsistent!=0.17.0,!=0.17.1,!=0.17.2,>=0.14.0 in c:\\python\\python39\\lib\\site-packages (from jsonschema!=2.5.0,>=2.4->nbformat>=4.4.0->nbdev) (0.18.0)\n",
      "Requirement already satisfied: pywin32>=1.0 in c:\\python\\python39\\lib\\site-packages (from jupyter-core>=4.6.0->jupyter-client<8->nbdev) (227)\n",
      "Requirement already satisfied: six>=1.5 in c:\\python\\python39\\lib\\site-packages (from python-dateutil>=2.1->jupyter-client<8->nbdev) (1.16.0)\n",
      "Requirement already satisfied: webencodings in c:\\python\\python39\\lib\\site-packages (from bleach->nbconvert>=6.1->nbdev) (0.5.1)\n",
      "Requirement already satisfied: jupyterlab-widgets>=1.0.0 in c:\\python\\python39\\lib\\site-packages (from ipywidgets->jupyter->nbdev) (1.0.2)\n",
      "Requirement already satisfied: widgetsnbextension~=3.5.0 in c:\\python\\python39\\lib\\site-packages (from ipywidgets->jupyter->nbdev) (3.5.2)\n",
      "Requirement already satisfied: prometheus-client in c:\\python\\python39\\lib\\site-packages (from notebook->jupyter->nbdev) (0.12.0)\n",
      "Requirement already satisfied: terminado>=0.8.3 in c:\\python\\python39\\lib\\site-packages (from notebook->jupyter->nbdev) (0.12.1)\n",
      "Requirement already satisfied: Send2Trash>=1.5.0 in c:\\python\\python39\\lib\\site-packages (from notebook->jupyter->nbdev) (1.8.0)\n",
      "Requirement already satisfied: argon2-cffi in c:\\python\\python39\\lib\\site-packages (from notebook->jupyter->nbdev) (21.1.0)\n",
      "Requirement already satisfied: qtpy in c:\\python\\python39\\lib\\site-packages (from qtconsole->jupyter->nbdev) (1.11.2)\n",
      "Requirement already satisfied: parso<0.9.0,>=0.8.0 in c:\\python\\python39\\lib\\site-packages (from jedi>=0.16->ipython<8.0,>=7.23.1->ipykernel->nbdev) (0.8.2)\n",
      "Requirement already satisfied: wcwidth in c:\\python\\python39\\lib\\site-packages (from prompt-toolkit!=3.0.0,!=3.0.1,<3.1.0,>=2.0.0->ipython<8.0,>=7.23.1->ipykernel->nbdev) (0.2.5)\n",
      "Requirement already satisfied: pywinpty>=1.1.0 in c:\\python\\python39\\lib\\site-packages (from terminado>=0.8.3->notebook->jupyter->nbdev) (1.1.5)\n",
      "Requirement already satisfied: cffi>=1.0.0 in c:\\python\\python39\\lib\\site-packages (from argon2-cffi->notebook->jupyter->nbdev) (1.15.0)\n",
      "Requirement already satisfied: pycparser in c:\\python\\python39\\lib\\site-packages (from cffi>=1.0.0->argon2-cffi->notebook->jupyter->nbdev) (2.21)\n",
      "Installing collected packages: fastcore, ghapi, fastrelease, nbdev\n",
      "Successfully installed fastcore-1.4.2 fastrelease-0.1.16 ghapi-0.1.20 nbdev-1.2.8\n"
     ]
    }
   ],
   "source": [
    "!pip install nbdev"
   ]
  },
  {
   "cell_type": "code",
   "execution_count": 3,
   "metadata": {},
   "outputs": [],
   "source": [
    "import pandas as pd\n",
    "import regex as re"
   ]
  },
  {
   "cell_type": "code",
   "execution_count": null,
   "metadata": {},
   "outputs": [],
   "source": [
    "#export\n",
    "def calculate_bmr(height, weight, age, gender):\n",
    "    if gender == 'w':\n",
    "        bmr = float(655.1 + (9.563 * weight) + (1.850 * height) - (4.676 * age))\n",
    "    elif gender == 'm':\n",
    "        bmr = float(66.47 + (13.75 * weight) + (5.003 * height) - (6.755 * age))\n",
    "    print(f'Your BMR is {bmr:.1f} \\n')\n",
    "    return bmr\n",
    "\n",
    "#def input_body_parameters(parameter_list, message):"
   ]
  },
  {
   "cell_type": "code",
   "execution_count": 5,
   "metadata": {},
   "outputs": [
    {
     "name": "stdout",
     "output_type": "stream",
     "text": [
      "your height = 170\n",
      "your weight = 60 \n",
      "your age = 30\n",
      "\n",
      "Your BMR is 1403.1 \n",
      "\n",
      "\n",
      "To stay at your current weight you need to consume 1403.10 calories\n"
     ]
    }
   ],
   "source": [
    "# idea! add possibility to correct initial data\n",
    "\n",
    "    \n",
    "\n",
    "height, weight, age = list(\n",
    "    map(\n",
    "        int, \n",
    "        input('Please type in your height in cm, weight in full kg and age in years separated with space').split()))\n",
    "\n",
    "print(f'your height = {height}\\nyour weight = {weight} \\nyour age = {age}\\n')\n",
    "\n",
    "gender = input('Please provide your gender: m for men and w for women')\n",
    "# idea! errorcheck\n",
    "\n",
    "bmr = calculate_bmr(height, weight, age, gender)\n",
    "\n",
    "dict_activity = {1:1.2, 2:1.37, 3:1.55, 4:1.725, 6:1.9}\n",
    "\n",
    "act = float(input('Please choose your level of activity:\\n1 - little to no exercise \\\n",
    "                                                \\n2 - light exercise 1–3 days a week \\\n",
    "                                                \\n3 - moderate exercise 3–5 days a week \\\n",
    "                                                \\n4 - hard exercises 6–7 days a week \\\n",
    "                                                \\n5 - physically demanding job or particularly challenging exercise routine\\n\\n'))\n",
    "\n",
    "amr = bmr * act\n",
    "# idea! make amr be printed out in different colour\n",
    "print(f'To stay at your current weight you need to consume {amr:.2f} calories')"
   ]
  },
  {
   "cell_type": "code",
   "execution_count": 2,
   "metadata": {},
   "outputs": [
    {
     "name": "stdout",
     "output_type": "stream",
     "text": [
      "Please provide your weight, height and age in the first part of the calculator\n"
     ]
    },
    {
     "ename": "NameError",
     "evalue": "name 'pd' is not defined",
     "output_type": "error",
     "traceback": [
      "\u001b[1;31m---------------------------------------------------------------------------\u001b[0m",
      "\u001b[1;31mNameError\u001b[0m                                 Traceback (most recent call last)",
      "\u001b[1;32mC:\\Users\\AFEDOR~1\\AppData\\Local\\Temp/ipykernel_32396/1728392463.py\u001b[0m in \u001b[0;36m<module>\u001b[1;34m\u001b[0m\n\u001b[0;32m      2\u001b[0m \u001b[1;33m\u001b[0m\u001b[0m\n\u001b[0;32m      3\u001b[0m \u001b[1;33m\u001b[0m\u001b[0m\n\u001b[1;32m----> 4\u001b[1;33m \u001b[0mmet_list\u001b[0m \u001b[1;33m=\u001b[0m \u001b[0mpd\u001b[0m\u001b[1;33m.\u001b[0m\u001b[0mread_csv\u001b[0m\u001b[1;33m(\u001b[0m\u001b[1;34m'data/met_list_activities.csv'\u001b[0m\u001b[1;33m,\u001b[0m\u001b[0msep\u001b[0m\u001b[1;33m=\u001b[0m\u001b[1;34m';'\u001b[0m\u001b[1;33m,\u001b[0m \u001b[0mencoding\u001b[0m\u001b[1;33m=\u001b[0m\u001b[1;34m'ANSI'\u001b[0m\u001b[1;33m,\u001b[0m \u001b[0mdecimal\u001b[0m\u001b[1;33m=\u001b[0m\u001b[1;34m','\u001b[0m\u001b[1;33m,\u001b[0m \u001b[0merror_bad_lines\u001b[0m\u001b[1;33m=\u001b[0m\u001b[1;32mFalse\u001b[0m\u001b[1;33m)\u001b[0m\u001b[1;33m\u001b[0m\u001b[1;33m\u001b[0m\u001b[0m\n\u001b[0m\u001b[0;32m      5\u001b[0m \u001b[1;31m#source https://golf.procon.org/met-values-for-800-activities/\u001b[0m\u001b[1;33m\u001b[0m\u001b[1;33m\u001b[0m\u001b[0m\n\u001b[0;32m      6\u001b[0m \u001b[1;33m\u001b[0m\u001b[0m\n",
      "\u001b[1;31mNameError\u001b[0m: name 'pd' is not defined"
     ]
    }
   ],
   "source": [
    "print('Please provide your weight, height and age in the first part of the calculator')\n",
    "\n",
    "\n",
    "met_list = pd.read_csv('data/met_list_activities.csv',sep=';', encoding='ANSI', decimal=',', error_bad_lines=False)\n",
    "#source https://golf.procon.org/met-values-for-800-activities/\n",
    "\n",
    "# while met is zero, user can keep looking for her activity\n",
    "met, your_act = 0, ''\n",
    "\n",
    "# idea! add an option to add more than one daily activity\n",
    "while met == 0:\n",
    "    your_act = input('Type in the activity you were doing today:')\n",
    "    # cheking, if the typed activity is in the list of activities\n",
    "    if len(met_list[met_list['SPECIFIC MOTION'].str.contains(your_act)]) != 0:\n",
    "        print('\\n', met_list[met_list['SPECIFIC MOTION'].str.contains(your_act)])\n",
    "        met = float(input('\\nSelect MET of your activity from the list'))\n",
    "    else:\n",
    "        print('Please type again')\n",
    "\n",
    "time = int(input('Type in the time of your activity for today in minutes:'))\n",
    "\n",
    "#calculate calories burned during activity with chosen MET and calories burned during rest of the time with standard MET of 1.2\n",
    "burned_cal = met * weight * time/60\n",
    "bmr_cal = 1.2 * weight * (24 - time / 60)\n",
    "print('Your Total Daily Energy Expenditure was {} kcal today, \\\\\\\n",
    "    from which you burned {} kcal during your activity'.format(round((burned_cal + bmr_cal), 2),  burned_cal))"
   ]
  },
  {
   "cell_type": "code",
   "execution_count": null,
   "metadata": {},
   "outputs": [],
   "source": []
  },
  {
   "cell_type": "code",
   "execution_count": null,
   "metadata": {},
   "outputs": [],
   "source": []
  }
 ],
 "metadata": {
  "interpreter": {
   "hash": "732353d8c7642473d8e734bee2a89f0938162f699c438dc9a11d7081b1712ce3"
  },
  "kernelspec": {
   "display_name": "Python 3.9.7 64-bit (system)",
   "language": "python",
   "name": "python3"
  },
  "language_info": {
   "codemirror_mode": {
    "name": "ipython",
    "version": 3
   },
   "file_extension": ".py",
   "mimetype": "text/x-python",
   "name": "python",
   "nbconvert_exporter": "python",
   "pygments_lexer": "ipython3",
   "version": "3.9.7"
  },
  "orig_nbformat": 4
 },
 "nbformat": 4,
 "nbformat_minor": 2
}
