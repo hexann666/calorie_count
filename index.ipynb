{
 "cells": [
  {
   "cell_type": "code",
   "execution_count": null,
   "metadata": {},
   "outputs": [],
   "source": [
    "#hide\n",
    "#from your_lib.core import *"
   ]
  },
  {
   "cell_type": "markdown",
   "metadata": {},
   "source": [
    "# Calorie count\n",
    "\n",
    "The aim of the project is to build a web application, where users can type in their body parameters and get an estimation of their recommended daily calories intake. In the second step users can provide information about the type of their sport activity and time they were doing it and get a calculation of spent calories during this activity.\n",
    "\n",
    "## Releases (defined according to the Lab's formal requirements)\n",
    "\n",
    "### Release 1:\n",
    "\n",
    "- git repository available on GitLab/Hub\n",
    "- git structure with readme, docs, tests\n",
    "- documentation\n",
    "- unit tests\n",
    "- docker container\n",
    "- pip package\n",
    "\n",
    "### Release 2 (to define)\n",
    "\n",
    "- Web-Application with Streamlit (Web-UI) (alternatively Flask or FastAPI)*\n",
    "\n",
    "### Release 3 (to define)\n",
    "\n",
    "- Webscraper - (get data)\n",
    "- Data bank (\"Datawarehouse\") \n",
    "- (Optional) Kubernetes (eg. Okteto)\n",
    "- (Optional) Worfklow in MLops-Stil\n",
    "\n",
    "## Technical requirements\n",
    "\n",
    "- System shall provide input fields for the input parameters (height, weight, age, gender, activity level).\n",
    "- User should input the body parameters in the order, in which system will request them and confirm that the input is complete.\n",
    "- System should store the variables provided by user until the end of transaction.\n",
    "- If all input variables are valid, system should calculate calorie intake recommendation and show it on the screen.\n",
    "- System shall provide input fields for the activity name and time.\n",
    "- User should enter her activity name in the field and confirm that the input is complete.\n",
    "- After the input was confirmed by user, system shall look up the input string in the data base in the column activity_name.\n",
    "- It there is no search result, system shall show a message 'Please type again', wait for the new input and repeat the serach as soon as the new input is confirmed.\n",
    "- If there is only one match result, system shall keep the value from the column \"METs\".\n",
    "- If there is more than one result, system shall show all results.\n",
    "- If system provides to user multiple results, she should choose her activity from the provided list and type in the respective number. System should keep the value from the column \"METs\" for the row number, that was typed in by the user.\n",
    "- If MET value is saved and body parameters are available from the previous step, system shall calculate the spent calories and total calories for the day.\n",
    "- If calculation step succeeded, system shall print the result on the screen.\n",
    "- the input variables and results shall not be stored after the last result is displayed."
   ]
  },
  {
   "cell_type": "markdown",
   "metadata": {},
   "source": [
    "## Install"
   ]
  },
  {
   "cell_type": "markdown",
   "metadata": {},
   "source": [
    "`pip install your_project_name`"
   ]
  },
  {
   "cell_type": "markdown",
   "metadata": {},
   "source": [
    "## How to use"
   ]
  },
  {
   "cell_type": "markdown",
   "metadata": {},
   "source": [
    "First you will provide your height, weight and age and calculate your Basal Metabolic Rate, the number of calories required to keep your body functioning at rest.\n",
    "\n",
    "After choosing your usual level of activity the Active Metabolic Rate, the number of calories that we consume on a daily basis depending on our height, gender, age, weight and entered activity level whilst maintaining current weight, will be calculated.\n",
    "\n",
    "Than you will be asked to type in the activity you were doing today. If there are more than one activities matching your input, you will select one from the lst that matches your search pattern. Additionally you will enter the time you were doing this activity.\n",
    "\n",
    "source for the formulas:    https://www.verywellfit.com/how-many-calories-do-i-need-each-day-2506873\n",
    "source for the MET values:  https://golf.procon.org/met-values-for-800-activities/"
   ]
  }
 ],
 "metadata": {
  "kernelspec": {
   "display_name": "Python 3",
   "language": "python",
   "name": "python3"
  }
 },
 "nbformat": 4,
 "nbformat_minor": 2
}
