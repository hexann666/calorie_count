{
 "cells": [
  {
   "cell_type": "code",
   "execution_count": null,
   "metadata": {},
   "outputs": [],
   "source": [
    "# default_exp core"
   ]
  },
  {
   "cell_type": "markdown",
   "metadata": {},
   "source": [
    "# Calorie\n",
    "\n",
    "> API details."
   ]
  },
  {
   "cell_type": "code",
   "execution_count": null,
   "metadata": {},
   "outputs": [],
   "source": [
    "#hide\n",
    "from nbdev.showdoc import *"
   ]
  },
  {
   "cell_type": "markdown",
   "metadata": {},
   "source": [
    "First you will provide your height, weight and age and calculate your Basal Metabolic Rate, the number of calories required to keep your body functioning at rest.\n",
    "\n",
    "Then after choosing your usual level of activity the Active Metabolic Rate, the number of calories that we consume on a daily basis depending on our height, gender, age, weight and entered activity level whilst maintaining current weight, will be calculated.\n",
    "\n",
    "source for the formulas https://www.verywellfit.com/how-many-calories-do-i-need-each-day-2506873"
   ]
  },
  {
   "cell_type": "code",
   "execution_count": null,
   "metadata": {},
   "outputs": [],
   "source": [
    "#hide\n",
    "import pandas as pd\n",
    "import regex as re"
   ]
  },
  {
   "cell_type": "code",
   "execution_count": null,
   "metadata": {},
   "outputs": [],
   "source": [
    "#export\n",
    "def input_body_parameters(message_dict):\n",
    "    body_params = {}\n",
    "    for param in message_dict.keys():\n",
    "        body_params[param] = int(input(message_dict[param]))\n",
    "        #assert isinstance(body_params[param], int), 'Input variables should be integers'\n",
    "        assert body_params[param] > 0, 'Only positive numbers are allowed'\n",
    "    return body_params\n",
    "\n",
    "def calculate_bmr(body_parameters, gender):\n",
    "    if gender == 'w':\n",
    "        bmr = float(655.1 + (9.563 * body_parameters['weight']) +\n",
    "         (1.850 * body_parameters['height']) - \n",
    "         (4.676 * body_parameters['age']))\n",
    "    elif gender == 'm':\n",
    "        bmr = float(66.47 + (13.75 * body_parameters['weight']) + \n",
    "        (5.003 * body_parameters['height']) - \n",
    "        (6.755 * body_parameters['age']))\n",
    "    print(f'Your BMR is {bmr:.1f} \\n')\n",
    "    return bmr"
   ]
  },
  {
   "cell_type": "code",
   "execution_count": null,
   "metadata": {},
   "outputs": [],
   "source": [
    "#weight, height, age = 0, 0, 0\n",
    "params = {}\n",
    "\n",
    "message_dict = {'height': 'Input height in cm',\n",
    "                'weight': 'Input weight in kg',\n",
    "                'age': 'Input age in full years'}\n",
    "\n",
    "for param in message_dict.keys():\n",
    "    params[param] = input(message_dict[param])"
   ]
  },
  {
   "cell_type": "code",
   "execution_count": null,
   "metadata": {},
   "outputs": [],
   "source": [
    "\"\"\"\n",
    "height, weight, age = list(\n",
    "    map(\n",
    "        int, \n",
    "        input('Please type in your height in cm, weight in full kg and age in years separated with space').split()))\n",
    "assert isinstance(height, weight, age), \"Input variables should be strings\"\n",
    "\"\"\""
   ]
  },
  {
   "cell_type": "code",
   "execution_count": null,
   "metadata": {},
   "outputs": [],
   "source": [
    "from nbdev.showdoc import *"
   ]
  },
  {
   "cell_type": "code",
   "execution_count": null,
   "metadata": {},
   "outputs": [
    {
     "name": "stdout",
     "output_type": "stream",
     "text": [
      "your height = -140\n",
      "your height = 50\n",
      "your height = 30\n",
      "gender should be w or m\n"
     ]
    },
    {
     "ename": "AssertionError",
     "evalue": "None",
     "output_type": "error",
     "traceback": [
      "\u001b[1;31m---------------------------------------------------------------------------\u001b[0m\n",
      "\u001b[1;31mAssertionError\u001b[0m                            Traceback (most recent call last)\n",
      "\u001b[1;32mC:\\Users\\AFEDOR~1\\AppData\\Local\\Temp/ipykernel_29880/1821807607.py\u001b[0m in \u001b[0;36m<module>\u001b[1;34m\u001b[0m\n",
      "\u001b[0;32m     13\u001b[0m \u001b[1;33m\u001b[0m\u001b[0m\n",
      "\u001b[0;32m     14\u001b[0m \u001b[0mgender\u001b[0m \u001b[1;33m=\u001b[0m \u001b[0minput\u001b[0m\u001b[1;33m(\u001b[0m\u001b[1;34m'Please provide your gender: m for men and w for women'\u001b[0m\u001b[1;33m)\u001b[0m\u001b[1;33m\u001b[0m\u001b[1;33m\u001b[0m\u001b[0m\n",
      "\u001b[1;32m---> 15\u001b[1;33m \u001b[1;32massert\u001b[0m \u001b[0mgender\u001b[0m \u001b[1;33m==\u001b[0m \u001b[1;34m'w'\u001b[0m \u001b[1;32mor\u001b[0m \u001b[0mgender\u001b[0m \u001b[1;33m==\u001b[0m \u001b[1;34m'm'\u001b[0m\u001b[1;33m,\u001b[0m \u001b[0mprint\u001b[0m\u001b[1;33m(\u001b[0m\u001b[1;34m'gender should be w or m'\u001b[0m\u001b[1;33m)\u001b[0m\u001b[1;33m\u001b[0m\u001b[1;33m\u001b[0m\u001b[0m\n",
      "\u001b[0m\u001b[0;32m     16\u001b[0m \u001b[1;31m# idea! errorcheck\u001b[0m\u001b[1;33m\u001b[0m\u001b[1;33m\u001b[0m\u001b[0m\n",
      "\u001b[0;32m     17\u001b[0m \u001b[1;33m\u001b[0m\u001b[0m\n",
      "\n",
      "\u001b[1;31mAssertionError\u001b[0m: None"
     ]
    }
   ],
   "source": [
    "#hide\n",
    "# idea! add possibility to correct initial data\n",
    "message_dict = {'height': 'Input height in cm',\n",
    "                'weight': 'Input weight in kg',\n",
    "                'age': 'Input age in full years'}\n",
    "\n",
    "body_params = input_body_parameters(message_dict)\n",
    "\n",
    "for param in body_params.keys():\n",
    "    print(f'your height = {body_params[param]}')\n",
    "\n",
    "#print(f'your height = {body_params[height]}\\nyour weight = {body_paramsweight} \\nyour age = {age}\\n')\n",
    "\n",
    "gender = input('Please provide your gender: m for men and w for women')\n",
    "assert gender == 'w' or gender == 'm', print('gender should be w or m')\n",
    "\n",
    "# idea! errorcheck\n",
    "\n",
    "bmr = calculate_bmr(body_params, gender)\n",
    "\n",
    "dict_activity = {1:1.2, 2:1.37, 3:1.55, 4:1.725, 6:1.9}\n",
    "\n",
    "act = float(input('Please choose your level of activity:\\n1 - little to no exercise \\\n",
    "                                                \\n2 - light exercise 1–3 days a week \\\n",
    "                                                \\n3 - moderate exercise 3–5 days a week \\\n",
    "                                                \\n4 - hard exercises 6–7 days a week \\\n",
    "                                                \\n5 - physically demanding job or particularly challenging exercise routine\\n\\n'))\n",
    "\n",
    "amr = bmr * dict_activity[act]\n",
    "# idea! make amr be printed out in different colour\n",
    "print(f'To stay at your current weight you need to consume {amr:.2f} calories')"
   ]
  },
  {
   "cell_type": "code",
   "execution_count": null,
   "metadata": {},
   "outputs": [
    {
     "name": "stdout",
     "output_type": "stream",
     "text": [
      "Please provide your weight, height and age in the first part of the calculator\n"
     ]
    },
    {
     "ename": "NameError",
     "evalue": "name 'pd' is not defined",
     "output_type": "error",
     "traceback": [
      "\u001b[1;31m---------------------------------------------------------------------------\u001b[0m\n",
      "\u001b[1;31mNameError\u001b[0m                                 Traceback (most recent call last)\n",
      "\u001b[1;32mC:\\Users\\AFEDOR~1\\AppData\\Local\\Temp/ipykernel_32396/1728392463.py\u001b[0m in \u001b[0;36m<module>\u001b[1;34m\u001b[0m\n",
      "\u001b[0;32m      2\u001b[0m \u001b[1;33m\u001b[0m\u001b[0m\n",
      "\u001b[0;32m      3\u001b[0m \u001b[1;33m\u001b[0m\u001b[0m\n",
      "\u001b[1;32m----> 4\u001b[1;33m \u001b[0mmet_list\u001b[0m \u001b[1;33m=\u001b[0m \u001b[0mpd\u001b[0m\u001b[1;33m.\u001b[0m\u001b[0mread_csv\u001b[0m\u001b[1;33m(\u001b[0m\u001b[1;34m'data/met_list_activities.csv'\u001b[0m\u001b[1;33m,\u001b[0m\u001b[0msep\u001b[0m\u001b[1;33m=\u001b[0m\u001b[1;34m';'\u001b[0m\u001b[1;33m,\u001b[0m \u001b[0mencoding\u001b[0m\u001b[1;33m=\u001b[0m\u001b[1;34m'ANSI'\u001b[0m\u001b[1;33m,\u001b[0m \u001b[0mdecimal\u001b[0m\u001b[1;33m=\u001b[0m\u001b[1;34m','\u001b[0m\u001b[1;33m,\u001b[0m \u001b[0merror_bad_lines\u001b[0m\u001b[1;33m=\u001b[0m\u001b[1;32mFalse\u001b[0m\u001b[1;33m)\u001b[0m\u001b[1;33m\u001b[0m\u001b[1;33m\u001b[0m\u001b[0m\n",
      "\u001b[0m\u001b[0;32m      5\u001b[0m \u001b[1;31m#source https://golf.procon.org/met-values-for-800-activities/\u001b[0m\u001b[1;33m\u001b[0m\u001b[1;33m\u001b[0m\u001b[0m\n",
      "\u001b[0;32m      6\u001b[0m \u001b[1;33m\u001b[0m\u001b[0m\n",
      "\n",
      "\u001b[1;31mNameError\u001b[0m: name 'pd' is not defined"
     ]
    }
   ],
   "source": [
    "#hide\n",
    "print('Please provide your weight, height and age in the first part of the calculator')\n",
    "\n",
    "met_list = pd.read_csv('data/met_list_activities.csv',sep=';', encoding='ANSI', decimal=',', error_bad_lines=False)\n",
    "#source https://golf.procon.org/met-values-for-800-activities/\n",
    "\n",
    "# while met is zero, user can keep looking for her activity\n",
    "met, your_act = 0, ''\n",
    "\n",
    "# idea! add an option to add more than one daily activity\n",
    "while met == 0:\n",
    "    your_act = input('Type in the activity you were doing today:')\n",
    "    # cheking, if the typed activity is in the list of activities\n",
    "    if len(met_list[met_list['SPECIFIC MOTION'].str.contains(your_act)]) != 0:\n",
    "        print('\\n', met_list[met_list['SPECIFIC MOTION'].str.contains(your_act)])\n",
    "        met = float(input('\\nSelect MET of your activity from the list'))\n",
    "    else:\n",
    "        print('Please type again')\n",
    "\n",
    "time = int(input('Type in the time of your activity for today in minutes:'))\n",
    "\n",
    "#calculate calories burned during activity with chosen MET and calories burned during rest of the time with standard MET of 1.2\n",
    "burned_cal = met * weight * time/60\n",
    "bmr_cal = 1.2 * weight * (24 - time / 60)\n",
    "print('Your Total Daily Energy Expenditure was {} kcal today, \\\\\\\n",
    "    from which you burned {} kcal during your activity'.format(round((burned_cal + bmr_cal), 2),  burned_cal))"
   ]
  },
  {
   "cell_type": "code",
   "execution_count": null,
   "metadata": {},
   "outputs": [],
   "source": []
  },
  {
   "cell_type": "code",
   "execution_count": null,
   "metadata": {},
   "outputs": [],
   "source": []
  }
 ],
 "metadata": {
  "kernelspec": {
   "display_name": "Python 3",
   "language": "python",
   "name": "python3"
  },
  "language_info": {
   "name": "python",
   "version": "3.9.7"
  }
 },
 "nbformat": 4,
 "nbformat_minor": 2
}
