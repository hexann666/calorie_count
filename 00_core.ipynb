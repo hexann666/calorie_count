{
 "cells": [
  {
   "cell_type": "code",
   "execution_count": null,
   "metadata": {},
   "outputs": [],
   "source": [
    "# default_exp core"
   ]
  },
  {
   "cell_type": "markdown",
   "metadata": {},
   "source": [
    "# Calorie counter\n",
    "\n",
    "> API details."
   ]
  },
  {
   "cell_type": "code",
   "execution_count": null,
   "metadata": {},
   "outputs": [],
   "source": [
    "#hide\n",
    "from nbdev.showdoc import *"
   ]
  },
  {
   "cell_type": "markdown",
   "metadata": {},
   "source": [
    "First you will provide your height, weight and age and calculate your Basal Metabolic Rate, the number of calories required to keep your body functioning at rest.\n",
    "\n",
    "After choosing your usual level of activity the Active Metabolic Rate, the number of calories that we consume on a daily basis depending on our height, gender, age, weight and entered activity level whilst maintaining current weight, will be calculated.\n",
    "\n",
    "Than you will be asked to type in the activity you were doing today. If there are more than one activities matching your input, you will select one from the lst that matches your search pattern. Additionally you will enter the time you were doing this activity.\n",
    "\n",
    "source for the formulas:    https://www.verywellfit.com/how-many-calories-do-i-need-each-day-2506873\n",
    "source for the MET values:  https://golf.procon.org/met-values-for-800-activities/"
   ]
  },
  {
   "cell_type": "code",
   "execution_count": null,
   "metadata": {},
   "outputs": [],
   "source": [
    "#hide\n",
    "from nbdev.showdoc import *"
   ]
  },
  {
   "cell_type": "code",
   "execution_count": null,
   "metadata": {},
   "outputs": [],
   "source": [
    "#hide\n",
    "import pandas as pd\n",
    "import regex as re"
   ]
  },
  {
   "cell_type": "code",
   "execution_count": null,
   "metadata": {},
   "outputs": [],
   "source": [
    "#export\n",
    "def input_body_parameters(message_dict):\n",
    "    \"\"\"\n",
    "    returns a dictionary with user input of body parameters: height, weight, age, gender and activity level\n",
    "\n",
    "    Parameters: message_dict: dict\n",
    "                a dictionary with body parameters as keys and message for user as values\n",
    "\n",
    "    Raises: AssertError: if inputs of type int are negative\n",
    "            AssertError: if inputs of type string are not 'w' or 'm'\n",
    "    \n",
    "    Return: dict\n",
    "            a dictionary with body parameters as keys and their values as values\n",
    "    \"\"\"\n",
    "    input_values = [170, 56, 41,'m', 1]\n",
    "    body_params = {}\n",
    "    n = range(len(message_dict))\n",
    "    zipped = zip(message_dict.keys(), n)\n",
    "    assert len(input_values) == len(message_dict)\n",
    "    for param, nr in zipped:\n",
    "        if param =='gender':\n",
    "            try:\n",
    "                body_params[param] = input(message_dict[param])\n",
    "            except:\n",
    "                body_params[param] = input_values[nr]\n",
    "            assert body_params[param] == 'w' or body_params[param] == 'm', 'gender value should be w or m'\n",
    "        else:\n",
    "            try:\n",
    "                body_params[param] = int(input(message_dict[param]))\n",
    "            except:\n",
    "                body_params[param] = input_values[nr]\n",
    "            assert body_params[param] > 0, 'Please provide a positive value'\n",
    "\n",
    "        body_params[param] = body_params[param]\n",
    "\n",
    "        print(f'Your {param} is {body_params[param]}')\n",
    "    return body_params\n",
    "\n",
    "\n",
    "def calculate_bmr_amr(body_parameters):\n",
    "    \"\"\"\n",
    "    returns basal metabolic rate (bmr) and active metabolic rate (amr) \n",
    "    \n",
    "    Parameters: body_parameters: dict \n",
    "                dictionary with body parameters as keys and their values as values\n",
    "\n",
    "    Returns: float\n",
    "            basal metabolic rate (bmr)\n",
    "            float\n",
    "            active metabolic rate (amr)\n",
    "    \"\"\"\n",
    "    dict_activity = {1:1.2, 2:1.37, 3:1.55, 4:1.725, 6:1.9}\n",
    "\n",
    "    if body_parameters['gender'] == 'w':\n",
    "        bmr = float(655.1 + (9.563 * body_parameters['weight']) +\n",
    "            (1.850 * body_parameters['height']) - \n",
    "            (4.676 * body_parameters['age']))\n",
    "    else:\n",
    "        bmr = float(66.47 + (13.75 * body_parameters['weight']) + \n",
    "            (5.003 * body_parameters['height']) - \n",
    "            (6.755 * body_parameters['age']))\n",
    "\n",
    "    amr = bmr * dict_activity[body_parameters['activity']]\n",
    "    return bmr, amr\n",
    "    \n",
    "\n",
    "def calculate_burned_calories(body_parameters):\n",
    "    \"\"\"\n",
    "    Returns the amount of calories burned during activity and during the day apart of activity.\n",
    "    \n",
    "    To calculate calories for specific activity its MET value is chosen from the table.\n",
    "    To assign MET user should type in the name of her activity for the search.\n",
    "    If user doesn't provide this information, activity is considered to be standing and light effort with MET of 1.4\n",
    "    Calories burned during rest of the day are calculated with standard MET of 1.2.\n",
    "    \n",
    "    Parameters: body_parameters: dict\n",
    "                dictionary with body parameters as keys and their values as values\n",
    "\n",
    "    Returns: float\n",
    "            amount of calories burned during activity\n",
    "            float\n",
    "            amount of calories burned during the day apart of activity\n",
    "    \"\"\"\n",
    "    import pandas as pd\n",
    "    \n",
    "    met_list = pd.read_csv('data/met_list_activities.csv',\n",
    "                            sep=';', \n",
    "                            #encoding='ANSI', \n",
    "                            decimal=',', \n",
    "                            error_bad_lines=False)\n",
    "    nr = 0\n",
    "    met = 0 \n",
    "    time = 0\n",
    "    your_act = ''\n",
    "    while met == 0:\n",
    "        try:\n",
    "            your_act = input('Type in the activity you were doing today:')\n",
    "        except:\n",
    "            your_act = 'standing, light effort tasks'\n",
    "        # cheking, if the typed activity is in the list of activities\n",
    "        if len(met_list[met_list['SPECIFIC MOTION'].str.contains(your_act)]) > 1:\n",
    "            print('\\n', met_list[met_list['SPECIFIC MOTION'].str.contains(your_act)])\n",
    "            try:\n",
    "                nr = int(input('\\nSelect MET of your activity from the list'))\n",
    "            except:\n",
    "                nr = 176\n",
    "        elif len(met_list[met_list['SPECIFIC MOTION'].str.contains(your_act)]) == 0:\n",
    "            print('Please type again')\n",
    "        elif len(met_list[met_list['SPECIFIC MOTION'].str.contains(your_act)]) == 1:\n",
    "            nr = met_list[met_list['SPECIFIC MOTION'].str.contains(your_act)].index\n",
    "        met = float(met_list['METs'].iloc[nr])\n",
    "        activity = str(met_list['SPECIFIC MOTION'].iloc[nr])\n",
    "    try:\n",
    "        time = int(input('Type in the time of your activity for today in minutes:'))\n",
    "    except:\n",
    "        time = 30\n",
    "\n",
    "    burned_cal = met * body_parameters['weight'] * time/60\n",
    "    bmr_cal = 1.2 * body_parameters['weight'] * (24 - time / 60)\n",
    "    print(f'\\nDuring {time} min of {activity} you burned {burned_cal:.0f} kcal.')\n",
    "    print(f'Your total daily energy expenditure was {round((burned_cal + bmr_cal), 2):.0f} kcal today')\n",
    "    return burned_cal, bmr_cal"
   ]
  },
  {
   "cell_type": "code",
   "execution_count": null,
   "metadata": {},
   "outputs": [
    {
     "name": "stdout",
     "output_type": "stream",
     "text": [
      "Your height is 170\n",
      "Your weight is 55\n",
      "Your age is 25\n",
      "Your gender is w\n",
      "Your activity is 1\n",
      "\n",
      "Your BMR is 1378.7\n",
      "To stay at your current weight you need to consume 1654 calories\n"
     ]
    }
   ],
   "source": [
    "#hide\n",
    "# idea! add possibility to correct initial data\n",
    "\n",
    "message_activity_level = 'Please choose your level of activity:\\\n",
    "                \\n1 - little to no exercise \\\n",
    "                \\n2 - light exercise 1–3 days a week \\\n",
    "                \\n3 - moderate exercise 3–5 days a week \\\n",
    "                \\n4 - hard exercises 6–7 days a week \\\n",
    "                \\n5 - physically demanding job or particularly challenging exercise routine'\n",
    "\n",
    "message_dict = {'height': 'Input height in cm',\n",
    "                'weight': 'Input weight in kg',\n",
    "                'age': 'Input age in full years',\n",
    "                'gender': 'Input biological gender as w or m',\n",
    "                'activity': message_activity_level}\n",
    "\n",
    "body_params = input_body_parameters(message_dict)\n",
    "\n",
    "bmr, amr = calculate_bmr_amr(body_params)\n",
    "print(f'\\nYour BMR is {bmr:.1f}')\n",
    "print(f'To stay at your current weight you need to consume {amr:.0f} calories')"
   ]
  },
  {
   "cell_type": "code",
   "execution_count": null,
   "metadata": {},
   "outputs": [
    {
     "name": "stderr",
     "output_type": "stream",
     "text": [
      "C:\\Users\\AFEDOR~1\\AppData\\Local\\Temp/ipykernel_34744/2494668240.py:4: FutureWarning: The error_bad_lines argument has been deprecated and will be removed in a future version.\n",
      "\n",
      "\n",
      "  burned_cal, bmr_cal = calculate_burned_calories(body_params)\n"
     ]
    },
    {
     "name": "stdout",
     "output_type": "stream",
     "text": [
      "Please provide your weight, height and age in the first part of the calculator\n",
      "\n",
      "During 30 min of 174    standing, light effort tasks (pump gas, change...\n",
      "Name: SPECIFIC MOTION, dtype: object you burned 55 kcal.\n",
      "Your total daily energy expenditure was 1606 kcal today\n"
     ]
    }
   ],
   "source": [
    "#hide\n",
    "print('Please provide your weight, height and age in the first part of the calculator')\n",
    "\n",
    "burned_cal, bmr_cal = calculate_burned_calories(body_params)"
   ]
  },
  {
   "cell_type": "code",
   "execution_count": null,
   "metadata": {},
   "outputs": [
    {
     "name": "stdout",
     "output_type": "stream",
     "text": [
      "aerobic, step, with 4-inch step\n"
     ]
    }
   ],
   "source": [
    "\"\"\"\n",
    "met_list = pd.read_csv('data/met_list_activities.csv',\n",
    "                            sep=';', \n",
    "                            #encoding='ANSI', \n",
    "                            decimal=',', \n",
    "                            error_bad_lines=False)\n",
    "\n",
    "print(str(met_list['SPECIFIC MOTION'].iloc[78]))\n",
    "\"\"\""
   ]
  }
 ],
 "metadata": {
  "kernelspec": {
   "display_name": "Python 3",
   "language": "python",
   "name": "python3"
  }
 },
 "nbformat": 4,
 "nbformat_minor": 2
}
