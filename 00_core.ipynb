{
 "cells": [
  {
   "cell_type": "code",
   "execution_count": null,
   "metadata": {},
   "outputs": [],
   "source": [
    "# default_exp core"
   ]
  },
  {
   "cell_type": "markdown",
   "metadata": {},
   "source": [
    "# Calorie counter\n",
    "\n",
    "> API details."
   ]
  },
  {
   "cell_type": "code",
   "execution_count": null,
   "metadata": {},
   "outputs": [],
   "source": [
    "#hide\n",
    "from nbdev.showdoc import *"
   ]
  },
  {
   "cell_type": "markdown",
   "metadata": {},
   "source": [
    "First you will provide your height, weight and age and calculate your Basal Metabolic Rate, the number of calories required to keep your body functioning at rest.\n",
    "\n",
    "Then after choosing your usual level of activity the Active Metabolic Rate, the number of calories that we consume on a daily basis depending on our height, gender, age, weight and entered activity level whilst maintaining current weight, will be calculated.\n",
    "\n",
    "source for the formulas https://www.verywellfit.com/how-many-calories-do-i-need-each-day-2506873"
   ]
  },
  {
   "cell_type": "code",
   "execution_count": null,
   "metadata": {},
   "outputs": [],
   "source": [
    "#hide\n",
    "from nbdev.showdoc import *"
   ]
  },
  {
   "cell_type": "code",
   "execution_count": null,
   "metadata": {},
   "outputs": [],
   "source": [
    "#hide\n",
    "\n",
    "import pandas\n",
    "import regex as re"
   ]
  },
  {
   "cell_type": "code",
   "execution_count": null,
   "metadata": {},
   "outputs": [],
   "source": [
    "#export\n",
    "def input_body_parameters(message_dict):\n",
    "    \"\"\"returns a dictionary with user input of body parameters: \n",
    "        height, weight, age, gender and activity level\n",
    "\n",
    "    :param message_dict: a dictionary with body parameters as keys and message for user as values\n",
    "    :type message_dict: dict\n",
    "\n",
    "    :raises AssertError: if inputs of type int are negative\n",
    "    :raises AssertError: if inputs of type string are not 'w' or 'm'\n",
    "    \n",
    "    :rtype: int\n",
    "    :return: multiplication of all arguments \n",
    "    \"\"\"\n",
    "    input_values = [170, 56, 41,'m', 1]\n",
    "    body_params = {}\n",
    "    n = range(len(message_dict))\n",
    "    zipped = zip(message_dict.keys(), n)\n",
    "    assert len(input_values) == len(message_dict)\n",
    "    for param, nr in zipped:\n",
    "        if param =='gender':\n",
    "            try:\n",
    "                body_params[param] = input(message_dict[param])\n",
    "            except:\n",
    "                body_params[param] = input_values[nr]\n",
    "            assert body_params[param] == 'w' or body_params[param] == 'm', 'gender value should be w or m'\n",
    "        else:\n",
    "            try:\n",
    "                body_params[param] = int(input(message_dict[param]))\n",
    "            except:\n",
    "                body_params[param] = input_values[nr]\n",
    "            assert body_params[param] > 0, 'Please provide a positive value'\n",
    "\n",
    "        body_params[param] = body_params[param]\n",
    "\n",
    "        print(f'Your {param} is {body_params[param]}')\n",
    "    return body_params\n",
    "\n",
    "\n",
    "def calculate_bmr_amr(body_parameters):\n",
    "    \"\"\"\n",
    "    returns basal metabolic rate(bmr) and active metabolic rate (amr) \n",
    "    \n",
    "    source for the formulas used for calculations: https://www.verywellfit.com/how-many-calories-do-i-need-each-day-2506873\n",
    "    \n",
    "    :param body_parameters \n",
    "    :type body_parameters: dict\n",
    "\n",
    "    :return bmr\n",
    "    :rtype float\n",
    "    :return amr\n",
    "    :rtype float\n",
    "    \"\"\"\n",
    "    dict_activity = {1:1.2, 2:1.37, 3:1.55, 4:1.725, 6:1.9}\n",
    "\n",
    "    if body_parameters['gender'] == 'w':\n",
    "        bmr = float(655.1 + (9.563 * body_parameters['weight']) +\n",
    "            (1.850 * body_parameters['height']) - \n",
    "            (4.676 * body_parameters['age']))\n",
    "    else:\n",
    "        bmr = float(66.47 + (13.75 * body_parameters['weight']) + \n",
    "            (5.003 * body_parameters['height']) - \n",
    "            (6.755 * body_parameters['age']))\n",
    "\n",
    "    amr = bmr * dict_activity[body_parameters['activity']]\n",
    "    return bmr, amr\n",
    "    \n",
    "\n",
    "def calculate_burned_calories(body_parameters):\n",
    "    \"\"\"\n",
    "    returns the amount of calories burned during activity and during the day apart of activity\n",
    "    \n",
    "    To calculate calories for specific activity its MET value is chosen from the table.\n",
    "    To assign MET user should type in the name of her activity for the search.\n",
    "    If user doesn't provide this information, activity is considered to be standing and light effort with MET of 1.4\n",
    "    Calories burned during rest of the day are calculated with standard MET of 1.2.\n",
    "\n",
    "    :param body_parameters\n",
    "    :type body_parameters: dict\n",
    "\n",
    "    :return burned_cal\n",
    "    :rtype float\n",
    "    :return bmr_cal\n",
    "    :rtype float\n",
    "\n",
    "    \"\"\"\n",
    "\n",
    "    met_list = pandas.read_csv('data/met_list_activities.csv',\n",
    "                            sep=';', \n",
    "                            encoding='ANSI', \n",
    "                            decimal=',', \n",
    "                            error_bad_lines=False)\n",
    "    nr = 0\n",
    "    met = 0 \n",
    "    time = 0\n",
    "    your_act = ''\n",
    "    while met == 0:\n",
    "        try:\n",
    "            your_act = input('Type in the activity you were doing today:')\n",
    "        except:\n",
    "            your_act = 'standing, light effort tasks'\n",
    "        # cheking, if the typed activity is in the list of activities\n",
    "        if len(met_list[met_list['SPECIFIC MOTION'].str.contains(your_act)]) > 1:\n",
    "            print('\\n', met_list[met_list['SPECIFIC MOTION'].str.contains(your_act)])\n",
    "            try:\n",
    "                nr = int(input('\\nSelect MET of your activity from the list'))\n",
    "            except:\n",
    "                nr = 176\n",
    "            #met = float(met_list['METs'].iloc[nr])\n",
    "            #activity = met_list['SPECIFIC MOTION'].iloc[nr]\n",
    "        elif len(met_list[met_list['SPECIFIC MOTION'].str.contains(your_act)]) == 0:\n",
    "            print('Please type again')\n",
    "        elif len(met_list[met_list['SPECIFIC MOTION'].str.contains(your_act)]) == 1:\n",
    "            nr = met_list[met_list['SPECIFIC MOTION'].str.contains(your_act)].index\n",
    "        met = float(met_list['METs'].iloc[nr])\n",
    "        activity = met_list['SPECIFIC MOTION'].iloc[nr]\n",
    "    try:\n",
    "        time = int(input('Type in the time of your activity for today in minutes:'))\n",
    "    except:\n",
    "        time = 30\n",
    "\n",
    "    burned_cal = met * body_parameters['weight'] * time/60\n",
    "    bmr_cal = 1.2 * body_parameters['weight'] * (24 - time / 60)\n",
    "    print(f'\\nDuring {time} min of {activity} you burned {burned_cal:.0f} kcal.')\n",
    "    print(f'Your total daily energy expenditure was {round((burned_cal + bmr_cal), 2):.0f} kcal today')\n",
    "    return burned_cal, bmr_cal"
   ]
  },
  {
   "cell_type": "code",
   "execution_count": null,
   "metadata": {},
   "outputs": [
    {
     "name": "stdout",
     "output_type": "stream",
     "text": [
      "Your height is 180\n",
      "Your weight is 23\n",
      "Your age is 15\n",
      "Your gender is m\n",
      "Your activity is 1\n",
      "\n",
      "Your BMR is 1181.9\n",
      "To stay at your current weight you need to consume 1418 calories\n"
     ]
    }
   ],
   "source": [
    "#hide\n",
    "# idea! add possibility to correct initial data\n",
    "\n",
    "message_activity_level = 'Please choose your level of activity:\\\n",
    "                \\n1 - little to no exercise \\\n",
    "                \\n2 - light exercise 1–3 days a week \\\n",
    "                \\n3 - moderate exercise 3–5 days a week \\\n",
    "                \\n4 - hard exercises 6–7 days a week \\\n",
    "                \\n5 - physically demanding job or particularly challenging exercise routine'\n",
    "\n",
    "message_dict = {'height': 'Input height in cm',\n",
    "                'weight': 'Input weight in kg',\n",
    "                'age': 'Input age in full years',\n",
    "                'gender': 'Input biological gender as w or m',\n",
    "                'activity': message_activity_level}\n",
    "\n",
    "body_params = input_body_parameters(message_dict)\n",
    "\n",
    "bmr, amr = calculate_bmr_amr(body_params)\n",
    "print(f'\\nYour BMR is {bmr:.1f}')\n",
    "print(f'To stay at your current weight you need to consume {amr:.0f} calories')"
   ]
  },
  {
   "cell_type": "code",
   "execution_count": null,
   "metadata": {},
   "outputs": [
    {
     "name": "stderr",
     "output_type": "stream",
     "text": [
      "C:\\Users\\AFEDOR~1\\AppData\\Local\\Temp/ipykernel_9536/2494668240.py:4: FutureWarning: The error_bad_lines argument has been deprecated and will be removed in a future version.\n",
      "\n",
      "\n",
      "  burned_cal, bmr_cal = calculate_burned_calories(body_params)\n"
     ]
    },
    {
     "name": "stdout",
     "output_type": "stream",
     "text": [
      "Please provide your weight, height and age in the first part of the calculator\n",
      "\n",
      "                  ACTIVITY                                    SPECIFIC MOTION  \\\n",
      "94    fishing and hunting                fishing from river bank and walking   \n",
      "108   fishing and hunting  hunting large game, from a hunting stand, limi...   \n",
      "129       home activities  polishing floors, standing, walking slowly, us...   \n",
      "138       home activities  wash dishes, clearing dishes from table, walki...   \n",
      "146       home activities  serving food, setting table, implied walking o...   \n",
      "..                    ...                                                ...   \n",
      "815  volunteer activities  walking, 3.0 mph, moderate speed, not carrying...   \n",
      "816  volunteer activities  walking, 3.5 mph, brisk speed, not carrying an...   \n",
      "817  volunteer activities  walking, 2.5 mph slowly and carrying objects l...   \n",
      "818  volunteer activities  walking, 3.0 mph moderately and carrying objec...   \n",
      "819  volunteer activities  walking, 3.5 mph, briskly and carrying objects...   \n",
      "\n",
      "     METs  \n",
      "94    4.0  \n",
      "108   2.5  \n",
      "129   4.5  \n",
      "138   2.5  \n",
      "146   2.5  \n",
      "..    ...  \n",
      "815   3.5  \n",
      "816   4.3  \n",
      "817   3.5  \n",
      "818   4.5  \n",
      "819   4.8  \n",
      "\n",
      "[99 rows x 3 columns]\n",
      "\n",
      "During 40 min of hunting large game, from a hunting stand, limited walking you burned 38 kcal.\n",
      "Your total daily energy expenditure was 682 kcal today\n"
     ]
    }
   ],
   "source": [
    "#hide\n",
    "print('Please provide your weight, height and age in the first part of the calculator')\n",
    "\n",
    "burned_cal, bmr_cal = calculate_burned_calories(body_params)"
   ]
  },
  {
   "cell_type": "code",
   "execution_count": null,
   "metadata": {},
   "outputs": [
    {
     "name": "stdout",
     "output_type": "stream",
     "text": [
      "<class 'float'>\n"
     ]
    },
    {
     "data": {
      "text/plain": [
       "\"\\n#met_list\\nmet = 0\\ntime = 30\\n\\nprint(met_list['METs'].iloc[met])\\n\\nwhile met == 0:\\n    your_act = input('Type in the activity you were doing today')\\n    # cheking, if the typed activity is in the list of activities\\n    if len(met_list[met_list['SPECIFIC MOTION'].str.contains(your_act)]) > 1:\\n        print('\\n', met_list[met_list['SPECIFIC MOTION'].str.contains(your_act)])\\n        met = int(input('\\nSelect number of your activity from the list'))\\n    elif len(met_list[met_list['SPECIFIC MOTION'].str.contains(your_act)]) == 1:\\n        met = met_list[met_list['SPECIFIC MOTION'].str.contains(your_act)].index\\n    else:\\n        print('There was no matching activity. Please try another activity name')\\n    print(met_list['METs'].iloc[met])\\n    burned_cal = met_list['METs'].iloc[met] * body_params['weight'] * time/60\\n    bmr_cal = 1.2 * body_params['weight'] * (24 - time / 60)\\n    print('\\nYour Total Daily Energy Expenditure was {} kcal today.\\n    You burned {} kcal during your activity'.format(\\n        round((burned_cal + bmr_cal), 2),  \\n        burned_cal))\\n\""
      ]
     },
     "execution_count": null,
     "metadata": {},
     "output_type": "execute_result"
    }
   ],
   "source": [
    "import pandas as pd\n",
    "\n",
    "met_list = pd.read_csv('data/met_list_activities.csv',\n",
    "                            sep=';', \n",
    "                            encoding='ANSI', \n",
    "                            decimal=',', \n",
    "                            error_bad_lines=False)\n",
    "nr = 180\n",
    "met = float(met_list['METs'].iloc[nr])\n",
    "print(type(met))\n",
    "\"\"\"\n",
    "#met_list\n",
    "met = 0\n",
    "time = 30\n",
    "\n",
    "print(met_list['METs'].iloc[met])\n",
    "\n",
    "while met == 0:\n",
    "    your_act = input('Type in the activity you were doing today')\n",
    "    # cheking, if the typed activity is in the list of activities\n",
    "    if len(met_list[met_list['SPECIFIC MOTION'].str.contains(your_act)]) > 1:\n",
    "        print('\\n', met_list[met_list['SPECIFIC MOTION'].str.contains(your_act)])\n",
    "        met = int(input('\\nSelect number of your activity from the list'))\n",
    "    elif len(met_list[met_list['SPECIFIC MOTION'].str.contains(your_act)]) == 1:\n",
    "        met = met_list[met_list['SPECIFIC MOTION'].str.contains(your_act)].index\n",
    "    else:\n",
    "        print('There was no matching activity. Please try another activity name')\n",
    "    print(met_list['METs'].iloc[met])\n",
    "    burned_cal = met_list['METs'].iloc[met] * body_params['weight'] * time/60\n",
    "    bmr_cal = 1.2 * body_params['weight'] * (24 - time / 60)\n",
    "    print('\\nYour Total Daily Energy Expenditure was {} kcal today.\\n\\\n",
    "    You burned {} kcal during your activity'.format(\n",
    "        round((burned_cal + bmr_cal), 2),  \n",
    "        burned_cal))\n",
    "\"\"\""
   ]
  }
 ],
 "metadata": {
  "kernelspec": {
   "display_name": "Python 3",
   "language": "python",
   "name": "python3"
  }
 },
 "nbformat": 4,
 "nbformat_minor": 2
}
