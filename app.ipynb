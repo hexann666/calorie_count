{
 "cells": [
  {
   "cell_type": "code",
   "execution_count": null,
   "metadata": {},
   "outputs": [
    {
     "name": "stdout",
     "output_type": "stream",
     "text": [
      "\n",
      "Your BMR is 78.5\n",
      "To stay at your current weight you need to consume 94 calories\n"
     ]
    },
    {
     "name": "stderr",
     "output_type": "stream",
     "text": [
      "c:\\Python\\Python39\\lib\\site-packages\\IPython\\core\\interactiveshell.py:3444: FutureWarning: The error_bad_lines argument has been deprecated and will be removed in a future version.\n",
      "\n",
      "\n",
      "  exec(code_obj, self.user_global_ns, self.user_ns)\n"
     ]
    }
   ],
   "source": [
    "#hide\n",
    "\n",
    "import streamlit as st\n",
    "import calorie_count.core as cc\n",
    "import pandas as pd\n",
    "\n",
    "st.write(\"\"\"Calorie count\"\"\")\n",
    "\n",
    "message_activity_level = 'Please choose your level of activity:\\\n",
    "                \\n1 - little to no exercise \\\n",
    "                \\n2 - light exercise 1–3 days a week \\\n",
    "                \\n3 - moderate exercise 3–5 days a week \\\n",
    "                \\n4 - hard exercises 6–7 days a week \\\n",
    "                \\n5 - physically demanding job or particularly challenging exercise routine'\n",
    "message_dict = {'height': 'Input height in cm',\n",
    "                'weight': 'Input weight in kg',\n",
    "                'age': 'Input age in full years',\n",
    "                'gender': 'Input biological gender as w or m',\n",
    "                'activity': message_activity_level} \n",
    "\n",
    "body_params = {}\n",
    "n = range(len(message_dict))\n",
    "zipped = zip(message_dict.keys(), n)\n",
    "#assert len(input_values) == len(message_dict)\n",
    "for param, nr in zipped:\n",
    "    if param =='gender':\n",
    "        body_params[param] = st.text_input(message_dict[param])\n",
    "    else:\n",
    "        body_params[param] = st.number_input(message_dict[param], min_value=1)\n",
    "\n",
    "    #st.write(f'Your {param} is') \n",
    "    #st.write(body_params[param])\n",
    "\n",
    "st.text(\"You entered following body parameters:\\n\")\n",
    "st.write(body_params)\n",
    "st.text(\"You can correct your input by changing it in the corresponding field and pressing Enter\")\n",
    "\n",
    "bmr, amr = cc.calculate_bmr_amr(body_params)\n",
    "st.text(\"Your BMR is \"), st.write(bmr)\n",
    "st.text(\"Your AMR is \"), st.write(amr)\n",
    "\n",
    "met_list = pd.read_csv('data/met_list_activities.csv',\n",
    "                            sep=';', \n",
    "                            #encoding='ANSI', \n",
    "                            decimal=',', \n",
    "                            error_bad_lines=False)\n",
    "nr = 0\n",
    "met = 0 \n",
    "time = 0\n",
    "your_act = ''\n",
    "while met == 0:\n",
    "    your_act = st.text_input('Type in the activity you were doing today:')\n",
    "    if len(met_list[met_list['SPECIFIC MOTION'].str.contains(your_act)]) > 1:\n",
    "            st.text(met_list[met_list['SPECIFIC MOTION'].str.contains(your_act)])\n",
    "            st.text('\\nSelect MET of your activity from the list')\n",
    "            nr = st.number_input('MET',  min_value=0)\n",
    "    elif len(met_list[met_list['SPECIFIC MOTION'].str.contains(your_act)]) == 0:\n",
    "            st.text('Please type again')\n",
    "    elif len(met_list[met_list['SPECIFIC MOTION'].str.contains(your_act)]) == 1:\n",
    "            nr = int(met_list[met_list['SPECIFIC MOTION'].str.contains(your_act)].index)\n",
    "    met = int(met_list['METs'].iloc[nr])\n",
    "    activity = str(met_list['SPECIFIC MOTION'].iloc[nr])\n",
    "\n",
    "time = st.number_input('Type in the time of your activity for today in minutes:')\n",
    "\n",
    "burned_cal = met * body_params['weight'] * time/60\n",
    "bmr_cal = 1.2 * body_params['weight'] * (24 - time / 60)\n",
    "\n",
    "st.write(burned_cal)\n",
    "st.write(bmr_cal)\n",
    "\n",
    "#burned_cal, bmr_cal = cc.calculate_burned_calories(body_params)\n",
    "#st.write(burned_cal)"
   ]
  }
 ],
 "metadata": {
  "kernelspec": {
   "display_name": "Python 3.9.7 64-bit (system)",
   "language": "python",
   "name": "python3"
  }
 },
 "nbformat": 4,
 "nbformat_minor": 2
}
